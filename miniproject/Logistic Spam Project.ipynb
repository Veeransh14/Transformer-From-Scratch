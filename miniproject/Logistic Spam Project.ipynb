{
 "cells": [
  {
   "cell_type": "code",
   "execution_count": 2,
   "id": "15655226",
   "metadata": {},
   "outputs": [],
   "source": [
    "import numpy as np\n",
    "import pandas as pd\n",
    "from sklearn.feature_extraction.text import CountVectorizer\n",
    "from sklearn.model_selection import train_test_split\n",
    "from sklearn.metrics import accuracy_score, classification_report\n",
    "import copy\n",
    "from scipy.special import expit\n"
   ]
  },
  {
   "cell_type": "code",
   "execution_count": 3,
   "id": "12d91ba6",
   "metadata": {},
   "outputs": [],
   "source": [
    "df = pd.read_csv(\"/Users/mayank/Downloads/SMSSpamCollection\", sep='\\t', names=['label', 'message'])\n",
    "df['label'] = df.label.map({'ham': 0, 'spam': 1})"
   ]
  },
  {
   "cell_type": "code",
   "execution_count": 4,
   "id": "94a58959",
   "metadata": {},
   "outputs": [],
   "source": [
    "df['message'] = df['message'].str.lower()\n",
    "df['message'] = df['message'].str.replace('[^\\w\\s]', '', regex=True)"
   ]
  },
  {
   "cell_type": "code",
   "execution_count": 5,
   "id": "fbc1b280",
   "metadata": {},
   "outputs": [],
   "source": [
    "vectorizer = CountVectorizer()\n",
    "X = vectorizer.fit_transform(df['message'])\n",
    "y = df['label'].astype(int)"
   ]
  },
  {
   "cell_type": "code",
   "execution_count": 6,
   "id": "64dcce59",
   "metadata": {},
   "outputs": [
    {
     "name": "stdout",
     "output_type": "stream",
     "text": [
      "4457\n"
     ]
    }
   ],
   "source": [
    "X_train, X_test, y_train, y_test = train_test_split(X, y, test_size=0.2, random_state=42)\n",
    "\n",
    "m, n_x = X_train.shape\n",
    "learning_rate = 0.01\n",
    "num_epochs = 8000\n",
    "print(m)\n",
    "X_train = X_train.toarray()\n",
    "X_test = X_test.toarray()\n",
    "y_train = y_train.values.reshape(-1, 1)\n",
    "y_test = y_test.values.reshape(-1, 1)"
   ]
  },
  {
   "cell_type": "code",
   "execution_count": 7,
   "id": "84fd8a02",
   "metadata": {},
   "outputs": [],
   "source": [
    "def initialize_with_zeros(dim):\n",
    "    w = np.zeros((dim, 1))\n",
    "    b = 0.0\n",
    "    return w, b"
   ]
  },
  {
   "cell_type": "code",
   "execution_count": 12,
   "id": "602dfdbb",
   "metadata": {},
   "outputs": [],
   "source": [
    "def propagate(w, b, X, Y):\n",
    "    X=np.array(X)\n",
    "    Y=np.array(Y)\n",
    "    w=np.array(w)\n",
    "    m = 4457\n",
    "    linear_combination = np.dot(X, w) + b\n",
    "    A = expit(linear_combination)  # Use expit for sigmoid\n",
    "    cost = -1/m * (np.dot(Y.T, np.log(A)) + np.dot((1 - Y).T, np.log(1 - A)))\n",
    "\n",
    "    dw = 1/m * X.T.dot(A - Y)\n",
    "    db = np.sum(A - Y)/m\n",
    "    cost = np.squeeze(np.array(cost))\n",
    "    grads = {\"dw\": dw,\n",
    "             \"db\": db}\n",
    "    return grads, cost\n"
   ]
  },
  {
   "cell_type": "code",
   "execution_count": 9,
   "id": "c4206ed4",
   "metadata": {},
   "outputs": [],
   "source": [
    "def optimize(w, b, X, Y, epochs=500, learning_rate=0.01):\n",
    "    costs = []\n",
    "    for i in range(epochs):\n",
    "        grads, cost = propagate(w, b, X, Y)\n",
    "        dw = grads[\"dw\"]\n",
    "        db = grads[\"db\"]\n",
    "        w -= learning_rate * dw\n",
    "        b -= learning_rate * db\n",
    "        if i % 100 == 0:\n",
    "            print(\"Cost for iteration {}: {}\".format(i, cost))\n",
    "            costs.append(cost)\n",
    "    params = {\"w\": w,\n",
    "              \"b\": b}\n",
    "    grads = {\"dw\": dw,\n",
    "             \"db\": db}\n",
    "    return params, grads, costs"
   ]
  },
  {
   "cell_type": "code",
   "execution_count": 10,
   "id": "41031b8a",
   "metadata": {},
   "outputs": [],
   "source": [
    "def predict(w, b, X):\n",
    "    X=np.array(X)\n",
    "    w=np.array(w)\n",
    "    linear_combination = np.dot(X, w) + b\n",
    "    A = expit(linear_combination)  \n",
    "    Y_prediction = (A >= 0.5).astype(int)\n",
    "    return Y_prediction"
   ]
  },
  {
   "cell_type": "code",
   "execution_count": 13,
   "id": "3cda5bf9",
   "metadata": {},
   "outputs": [
    {
     "name": "stdout",
     "output_type": "stream",
     "text": [
      "Cost for iteration 0: 0.693147180559947\n",
      "Cost for iteration 100: 0.5415156926797872\n",
      "Cost for iteration 200: 0.4702054040333221\n",
      "Cost for iteration 300: 0.4281903253603253\n",
      "Cost for iteration 400: 0.39913548479367866\n",
      "Cost for iteration 500: 0.3767901209994725\n",
      "Cost for iteration 600: 0.3584097444910779\n",
      "Cost for iteration 700: 0.342654790019315\n",
      "Cost for iteration 800: 0.32880830940779393\n",
      "Cost for iteration 900: 0.3164502745442551\n",
      "Cost for iteration 1000: 0.30531098799443146\n",
      "Cost for iteration 1100: 0.29520153269237637\n",
      "Cost for iteration 1200: 0.28597952012155464\n",
      "Cost for iteration 1300: 0.2775316539307681\n",
      "Cost for iteration 1400: 0.2697644800483757\n",
      "Cost for iteration 1500: 0.2625991776519079\n",
      "Cost for iteration 1600: 0.2559683782567649\n",
      "Cost for iteration 1700: 0.2498140354496529\n",
      "Cost for iteration 1800: 0.24408587117866357\n",
      "Cost for iteration 1900: 0.23874016706282628\n",
      "Cost for iteration 2000: 0.23373878450886565\n",
      "Cost for iteration 2100: 0.22904835165596155\n",
      "Cost for iteration 2200: 0.22463958067286996\n",
      "Cost for iteration 2300: 0.22048669122472975\n",
      "Cost for iteration 2400: 0.2165669222650081\n",
      "Cost for iteration 2500: 0.21286011798675905\n",
      "Cost for iteration 2600: 0.20934837623591404\n",
      "Cost for iteration 2700: 0.20601574956350577\n",
      "Cost for iteration 2800: 0.20284799062746758\n",
      "Cost for iteration 2900: 0.19983233495227715\n",
      "Cost for iteration 3000: 0.19695731516275586\n",
      "Cost for iteration 3100: 0.19421260175289295\n",
      "Cost for iteration 3200: 0.19158886625142518\n",
      "Cost for iteration 3300: 0.1890776633209028\n",
      "Cost for iteration 3400: 0.1866713288929836\n",
      "Cost for iteration 3500: 0.18436289191548202\n",
      "Cost for iteration 3600: 0.18214599768053466\n",
      "Cost for iteration 3700: 0.18001484103081986\n",
      "Cost for iteration 3800: 0.17796410801304763\n",
      "Cost for iteration 3900: 0.17598892477427852\n",
      "Cost for iteration 4000: 0.17408481268493872\n",
      "Cost for iteration 4100: 0.17224764882923477\n",
      "Cost for iteration 4200: 0.17047363113451985\n",
      "Cost for iteration 4300: 0.16875924752052107\n",
      "Cost for iteration 4400: 0.167101248540935\n",
      "Cost for iteration 4500: 0.16549662306678006\n",
      "Cost for iteration 4600: 0.1639425766255856\n",
      "Cost for iteration 4700: 0.16243651206505894\n",
      "Cost for iteration 4800: 0.16097601225599828\n",
      "Cost for iteration 4900: 0.15955882458832024\n",
      "Cost for iteration 5000: 0.15818284704729213\n",
      "Cost for iteration 5100: 0.1568461156853568\n",
      "Cost for iteration 5200: 0.1555467933291007\n",
      "Cost for iteration 5300: 0.15428315938159934\n",
      "Cost for iteration 5400: 0.1530536005981191\n",
      "Cost for iteration 5500: 0.15185660272841459\n",
      "Cost for iteration 5600: 0.15069074293201704\n",
      "Cost for iteration 5700: 0.14955468288427443\n",
      "Cost for iteration 5800: 0.1484471625007413\n",
      "Cost for iteration 5900: 0.14736699421605898\n",
      "Cost for iteration 6000: 0.14631305776088663\n",
      "Cost for iteration 6100: 0.1452842953869168\n",
      "Cost for iteration 6200: 0.14427970749565386\n",
      "Cost for iteration 6300: 0.14329834863157653\n",
      "Cost for iteration 6400: 0.14233932380463382\n",
      "Cost for iteration 6500: 0.14140178511082918\n",
      "Cost for iteration 6600: 0.1404849286229889\n",
      "Cost for iteration 6700: 0.13958799152676227\n",
      "Cost for iteration 6800: 0.13871024947949828\n",
      "Cost for iteration 6900: 0.13785101417195075\n",
      "Cost for iteration 7000: 0.13700963107479422\n",
      "Cost for iteration 7100: 0.13618547735374828\n",
      "Cost for iteration 7200: 0.13537795993870846\n",
      "Cost for iteration 7300: 0.13458651373371322\n",
      "Cost for iteration 7400: 0.13381059995585223\n",
      "Cost for iteration 7500: 0.13304970459235435\n",
      "Cost for iteration 7600: 0.13230333696611188\n",
      "Cost for iteration 7700: 0.13157102840080795\n",
      "Cost for iteration 7800: 0.13085233097762514\n",
      "Cost for iteration 7900: 0.1301468163762489\n",
      "Train accuracy: 96.25308503477676 %\n",
      "Test accuracy: 95.87443946188341 %\n"
     ]
    }
   ],
   "source": [
    "def model(X_train, Y_train, X_test, Y_test, num_iterations=2000, learning_rate=0.01):\n",
    "    w, b = initialize_with_zeros(n_x)\n",
    "    params, grads, costs = optimize(w, b, X_train, Y_train, num_iterations, learning_rate)\n",
    "    w = params[\"w\"]\n",
    "    b = params[\"b\"]\n",
    "    Y_prediction_test = predict(w, b, X_test)\n",
    "    Y_prediction_train = predict(w, b, X_train)\n",
    "    print(\"Train accuracy: {} %\".format(100 - np.mean(np.abs(Y_prediction_train - Y_train)) * 100))\n",
    "    print(\"Test accuracy: {} %\".format(100 - np.mean(np.abs(Y_prediction_test - Y_test)) * 100))\n",
    "    d = {\"costs\": costs,\n",
    "         \"Y_prediction_test\": Y_prediction_test,\n",
    "         \"Y_prediction_train\": Y_prediction_train,\n",
    "         \"w\": w,\n",
    "         \"b\": b,\n",
    "         \"learning_rate\": learning_rate,\n",
    "         \"num_iterations\": num_iterations}\n",
    "    return d\n",
    "\n",
    "logistic_regression_model = model(X_train, y_train, X_test, y_test, num_iterations=8000, learning_rate=0.01)"
   ]
  },
  {
   "cell_type": "code",
   "execution_count": null,
   "id": "c1386afa",
   "metadata": {},
   "outputs": [],
   "source": []
  }
 ],
 "metadata": {
  "kernelspec": {
   "display_name": "Python 3 (ipykernel)",
   "language": "python",
   "name": "python3"
  },
  "language_info": {
   "codemirror_mode": {
    "name": "ipython",
    "version": 3
   },
   "file_extension": ".py",
   "mimetype": "text/x-python",
   "name": "python",
   "nbconvert_exporter": "python",
   "pygments_lexer": "ipython3",
   "version": "3.9.13"
  }
 },
 "nbformat": 4,
 "nbformat_minor": 5
}
